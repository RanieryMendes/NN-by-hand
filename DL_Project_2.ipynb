{
 "cells": [
  {
   "cell_type": "markdown",
   "metadata": {},
   "source": [
    "# Deep Learning Project 2  - Raniery Mendes\n",
    "\n",
    "\n",
    "* Due latest by Friday 3/8\n",
    "\n",
    "## Multi-class classification via neural networks\n",
    "\n",
    "In this project, you will learn how to implement all the basic components of a neural network, including forward propagation, gradient computation, and back propagation, following the development framework presented by Professor Andrew Ng for [binary classification](https://www.youtube.com/watch?v=eqEc66RFY0I&list=PLkDaE6sCZn6Ec-XTbcX1uRg2_u4xOEky0&index=7). The activities in this project will help you gain valuable intuition regarding several of the fundamental programming techniques powering neural network libraries. You will also develop appreciation, through hands-on application, for some of the practical considerations involved in training a neural network. \n",
    "\n",
    "As in Project 1, we will use the MNIST dataset to experiment with binary and multi-class classification problems. \n",
    "\n",
    "### Learning outcomes\n",
    "After completing project 2, you will be able to:\n",
    "* Implement neural networks that use cross-entropy loss for binary classification \n",
    "* Apply ideas originating in binary classification to multi-class classification problems\n",
    "* Describe and apply activation functions, such as sigmoid and softmax\n",
    "* Understand the role of parameters and hyper parameter initialization\n",
    "\n",
    "### Multi-class classification: the MNIST dataset\n",
    "The MNIST dataset consists of 70,000 gray-scale images (samples) of hand-written digits 0 through 9. The multi-class classification problem consists of classifying each sample accurately as belonging to one of ten classes. This dataset is divided into training (60,000) and test (10,000) datasets. "
   ]
  },
  {
   "cell_type": "markdown",
   "metadata": {},
   "source": [
    "### 1. Logistic regression using a neural network implementation framework (50% undergrad, 30% grad)\n",
    "Prof. Andrew Ng's Coursera videos, assigned in Module 2, explain how logistic regression can be implemented as a single neuron that receives images as input and predicts their classification into one of two classes (cats vs. non-cats in his videos). He explains in detail how the process can be separated into a forward pass, calculation of a loss function, and numerical optimization using gradient descent in the back propagation step. \n",
    "\n",
    "Your job for this part of the project is to implement the \"logistic regression with a neural network mindset\" approach described by Professor Ng. For this you, will use a Jupyter notebook provided as part of his Coursera course. A zip file (Logistic Regression as a Neural Network.zip) containing this notebook as well as other files and folders needed can be found as apart of the Google Classroom assignment.\n",
    "\n",
    "#### Implementation requirements (50%)\n",
    "* The Jupyter notebook contains step-by-step implementation instructions. Follow these instructions carefully.\n",
    "* Your code should use the vectorization techniques learned from Prof. Ng's videos. **Pay attention to the order of dimensions of the data matrix X, they are ordered as (features, samples)** \n",
    "* You can use the cat/non-cat dataset to debug your implementation, but it's not required.\n",
    "\n",
    "**Suggestions:** \n",
    "* Always keep the size of your matrices and vectors in mind to avoid confusion.\n",
    "* Include some tests or sanity checks as you've seen in our homework assignment and in Prof. Ng's notebook.\n",
    "* Avoid loops. Learn to use vectorization.\n",
    "\n",
    "#### Application (20%)\n",
    "Can we solve the 10-class MNIST classification problem using our binary classification logistic regression code? The answer is yes. Think about how to reframe the problem so that it can be solved via your binary classification code. Then explain how you are going to do this, discussing the pros and cons of your approach.  \n",
    "\n",
    "\n",
    "#### Results and Analysis (30%)\n",
    "Solve the classification problem and obtain performance results, be sure to specify (and experiment with) the value of $\\alpha$, your hyperparameter. These results should include plots of the cost function value, the training accuracy, and the test accuracy at each iteration (epoch) of your code. Finally, analyze the results you obtained. Here are a few things you might want to consider.\n",
    "\n",
    "* How do the learning cost, the train accuracy, and the test accuracy curves change as function of the learning rate assuming a fix number of iterations (say, 2000 iterations)? \n",
    "* For what range of $\\alpha$ does convergence \"fail\"? \n",
    "* For approximately what values of $\\alpha$ you obtain best performance?\n",
    "\n",
    "**Bonus (5%)**: The weight vector has the same size as the input images, so you can actually reshape it to look like one. What's happening to the weight vector \"image\" as the code converges? What is the algorithm *learning*?\n"
   ]
  },
  {
   "cell_type": "markdown",
   "metadata": {},
   "source": [
    "### 2. Extending the framework for multi-class classification (50% undergrad, 70% grad)\n",
    "\n",
    "In this part, we want to solve the 10-class MNIST classification problem via a proper neural network with 10 outputs (i.e. a probability for each class). Here are a couple of ways to extend the idea behind binary classification for the purpose of multi-class classification.  \n",
    " * Option 1. Implement a neural network consisting of one layer containing 10 nodes. Each node will have its own weight vector and bias values. Then, replace the sigmoid activation function with a softmax activation function. The code must put together all 10 weight vectors $\\mathbf{w}_i$ into a matrix $\\mathbf{W}$ and all 10 bias values into a vector $\\mathbf{b}$ and apply vectorization. Prof. Ng goes over how to do this in his C1W3 lectures. \n",
    " * Option 2. Implement a two-layer neural network. The input image goes into all the nodes in the first layer (which contains, say 100 nodes). The output produced by this layer then goes as input to a second layer consisting of 10 nodes and softmax activation function. This is a much more powerful neural network because of the ability of the first layer (the hidden layer) to learn intermediate information about the problem. Prof. Ng lectures also go over in detail about how to obtain the partial derivatives and vectorize the code.\n",
    " \n",
    "\n",
    "**Undergraduate students** You can choose to implement option 1 or 2. (70%)\n",
    "\n",
    "**Grad students** You must implement option 2. (70%)\n",
    "\n",
    "As in part 1, solve the classification problem with your code, obtain and analyze your results. (30%)\n"
   ]
  },
  {
   "cell_type": "markdown",
   "metadata": {},
   "source": [
    "### What to turn in \n",
    "\n",
    "You will turn in this assignment via Google Classroom. Let me know if you have any issues so that I can fix those accordingly.\n",
    "\n",
    "What to submit:\n",
    "* Two Jupyter notebooks containing your code for Projects 1 and 2. Be sure to include the generated by each cell.\n",
    "* A report of maximum 4 pages in length in **PDF** containing sections describing: the methodology, the results, and the analysis.\n",
    "    "
   ]
  },
  {
   "cell_type": "markdown",
   "metadata": {},
   "source": [
    "### PART 1\n"
   ]
  },
  {
   "cell_type": "code",
   "execution_count": 11,
   "metadata": {},
   "outputs": [
    {
     "data": {
      "text/plain": [
       "<torch._C.Generator at 0x1786edf50>"
      ]
     },
     "execution_count": 11,
     "metadata": {},
     "output_type": "execute_result"
    }
   ],
   "source": [
    "#packages \n",
    "import numpy as np\n",
    "import matplotlib.pyplot as plt\n",
    "import h5py\n",
    "import scipy\n",
    "from PIL import Image\n",
    "from scipy import ndimage\n",
    "from tensorflow.keras.datasets import mnist\n",
    "import torch\n",
    "\n",
    "import tensorflow as tf\n",
    "tf.random.set_seed(0)\n",
    "torch.manual_seed(0)\n"
   ]
  },
  {
   "cell_type": "code",
   "execution_count": 132,
   "metadata": {},
   "outputs": [
    {
     "name": "stdout",
     "output_type": "stream",
     "text": [
      "Number of training samples = 60000\n",
      "Number of testing samples = 10000\n",
      "Original sample dimensions: 28 x 28\n",
      "Labels (classes): [0 1 2 3 4 5 6 7 8 9]\n",
      "Number of samples per class (training): [5923 6742 5958 6131 5842 5421 5918 6265 5851 5949]\n",
      "Number of samples per class (testing): [ 980 1135 1032 1010  982  892  958 1028  974 1009]\n",
      "Total number of samples per class (training + testing): [6903 7877 6990 7141 6824 6313 6876 7293 6825 6958]\n"
     ]
    }
   ],
   "source": [
    "#load data\n",
    "(train_images, train_labels), (test_images, test_labels) = mnist.load_data()\n",
    "# The number of samples in the training and test sets\n",
    "number_train = train_images.shape[0]\n",
    "number_test = test_images.shape[0]\n",
    "# The dimension of each image\n",
    "height = train_images.shape[1]\n",
    "width =train_images.shape[2]\n",
    "unique_values, counts = np.unique(train_labels, return_counts=True)\n",
    "_, counts_test = np.unique(test_labels, return_counts=True)\n",
    "total_samples = counts + counts_test\n",
    "print (f\"Number of training samples = {number_train}\")\n",
    "print (f\"Number of testing samples = {number_test}\")\n",
    "print (f\"Original sample dimensions: {width} x {height}\")\n",
    "print(f\"Labels (classes): {unique_values}\")\n",
    "print (f\"Number of samples per class (training): {counts}\")\n",
    "print (f\"Number of samples per class (testing): {counts_test}\")\n",
    "print(f\"Total number of samples per class (training + testing): {total_samples}\")\n"
   ]
  },
  {
   "cell_type": "code",
   "execution_count": 133,
   "metadata": {},
   "outputs": [
    {
     "name": "stdout",
     "output_type": "stream",
     "text": [
      "train_set_x_flatten shape: (784, 60000)\n",
      "train_set_y shape: (60000,)\n",
      "test_set_x_flatten shape: (784, 10000)\n",
      "test_set_y shape: (10000,)\n"
     ]
    }
   ],
   "source": [
    "#Flattening the data\n",
    "\n",
    "### START CODE HERE ### (≈ 2 lines of code)\n",
    "train_set_x_flatten = train_images.reshape(train_images.shape[0], -1).T \n",
    "test_set_x_flatten = test_images.reshape(test_images.shape[0], -1).T \n",
    "### END CODE HERE ###\n",
    "\n",
    "print (\"train_set_x_flatten shape: \" + str(train_set_x_flatten.shape))\n",
    "print (\"train_set_y shape: \" + str(train_labels.shape))\n",
    "print (\"test_set_x_flatten shape: \" + str(test_set_x_flatten.shape))\n",
    "print (\"test_set_y shape: \" + str(test_labels.shape))\n"
   ]
  },
  {
   "cell_type": "code",
   "execution_count": 134,
   "metadata": {},
   "outputs": [],
   "source": [
    "#Normalize data\n",
    "train_set_x = train_set_x_flatten/255.\n",
    "test_set_x = test_set_x_flatten/255."
   ]
  },
  {
   "cell_type": "markdown",
   "metadata": {},
   "source": [
    "<h5> Setting up Helper functions </h5>"
   ]
  },
  {
   "cell_type": "code",
   "execution_count": 135,
   "metadata": {},
   "outputs": [],
   "source": [
    "# Function definition for sigmoid(x)\n",
    "def sigmoid(x):\n",
    "    ### START CODE HERE ###\n",
    "    y = 1 / (1 + np.exp(-x))\n",
    "    ### END CODE HERE ###\n",
    "    return y"
   ]
  },
  {
   "cell_type": "code",
   "execution_count": 136,
   "metadata": {},
   "outputs": [
    {
     "name": "stdout",
     "output_type": "stream",
     "text": [
      "sigmoid([0, 2]) = [0.5        0.88079708]\n"
     ]
    }
   ],
   "source": [
    "#check sigmoid function\n",
    "print (\"sigmoid([0, 2]) = \" + str(sigmoid(np.array([0,2]))))"
   ]
  },
  {
   "cell_type": "code",
   "execution_count": 137,
   "metadata": {},
   "outputs": [],
   "source": [
    "#initialize weights & bias \n",
    "\n",
    "def initialize_with_zeros(dim):\n",
    "    \"\"\"\n",
    "    This function creates a vector of zeros of shape (dim, 1) for w and initializes b to 0.\n",
    "    \n",
    "    Argument:\n",
    "    dim -- size of the w vector we want (or number of parameters in this case)\n",
    "    \n",
    "    Returns:\n",
    "    w -- initialized vector of shape (dim, 1)\n",
    "    b -- initialized scalar (corresponds to the bias)\n",
    "    \"\"\"\n",
    "     \n",
    "\n",
    "    ### START CODE HERE ### (≈ 1 line of code)\n",
    "    w = torch.empty(dim, 1)\n",
    "    torch.nn.init.uniform_(w)\n",
    "    w = w.numpy()\n",
    "    b = 0\n",
    "    ### END CODE HERE ###\n",
    "\n",
    "    assert(w.shape == (dim, 1))\n",
    "    assert(isinstance(b, float) or isinstance(b, int))\n",
    "    \n",
    "    return w, b"
   ]
  },
  {
   "cell_type": "code",
   "execution_count": 138,
   "metadata": {},
   "outputs": [
    {
     "name": "stdout",
     "output_type": "stream",
     "text": [
      "w = [[0.4962566]\n",
      " [0.7682218]]\n",
      "b = 0\n"
     ]
    }
   ],
   "source": [
    "#test initialization function\n",
    "\n",
    "dim = 2\n",
    "w, b = initialize_with_zeros(dim)\n",
    "print (\"w = \" + str(w))\n",
    "print (\"b = \" + str(b))"
   ]
  },
  {
   "cell_type": "code",
   "execution_count": 139,
   "metadata": {},
   "outputs": [],
   "source": [
    "def propagate(w, b, X, Y):\n",
    "    \"\"\"\n",
    "    Implement the cost function and its gradient for the propagation explained above\n",
    "\n",
    "    Arguments:\n",
    "    w -- weights, a numpy array of size (num_px * num_px * 3, 1)\n",
    "    b -- bias, a scalar\n",
    "    X -- data of size (num_px * num_px * 3, number of examples)\n",
    "    Y -- true \"label\" vector (containing 0 if non-cat, 1 if cat) of size (1, number of examples)\n",
    "\n",
    "    Return:\n",
    "    cost -- negative log-likelihood cost for logistic regression\n",
    "    dw -- gradient of the loss with respect to w, thus same shape as w\n",
    "    db -- gradient of the loss with respect to b, thus same shape as b\n",
    "    \n",
    "    Tips:\n",
    "    - Write your code step by step for the propagation. np.log(), np.dot()\n",
    "    \"\"\"\n",
    "    \n",
    "    m = X.shape[1]\n",
    "    epsilon = 1e-8\n",
    "    # FORWARD PROPAGATION (FROM X TO COST)\n",
    "    ### START CODE HERE ### (≈ 2 lines of code)\n",
    "\n",
    "    A = sigmoid(np.dot(w.T, X) + b)    \n",
    "    # compute activation\n",
    "    cost =   (-1/m) * np.sum(Y * np.log(A+epsilon) + (1 - Y) * np.log(1 - A + epsilon))   \n",
    "    # compute cost\n",
    "    ### END CODE HERE ###\n",
    "    \n",
    "    # BACKWARD PROPAGATION (TO FIND GRAD)\n",
    "    ### START CODE HERE ### (≈ 2 lines of code)\n",
    "    # print(\"A \", A.shape)\n",
    "    # print(\"Y \", Y.shape)\n",
    "    dz = A-Y \n",
    "    # dw = (1/m) * X * dz.T\n",
    "    dw = (1/m) * np.dot(X,dz.T)\n",
    "    db = (1/m) * np.sum(dz)\n",
    "    ### END CODE HERE ###\n",
    "\n",
    "    assert(dw.shape == w.shape)\n",
    "    assert(db.dtype == float)\n",
    "    cost = np.squeeze(cost)\n",
    "    assert(cost.shape == ())\n",
    "    \n",
    "    grads = {\"dw\": dw,\n",
    "             \"db\": db}\n",
    "    \n",
    "    return grads, cost"
   ]
  },
  {
   "cell_type": "code",
   "execution_count": 140,
   "metadata": {},
   "outputs": [
    {
     "name": "stdout",
     "output_type": "stream",
     "text": [
      "dw = [[0.99845601]\n",
      " [2.39507239]]\n",
      "db = 0.001455578136784208\n",
      "cost = 5.801002496414526\n"
     ]
    }
   ],
   "source": [
    "#test propagation function\n",
    "\n",
    "w, b, X, Y = np.array([[1.],[2.]]), 2., np.array([[1.,2.,-1.],[3.,4.,-3.2]]), np.array([[1,0,1]])\n",
    "\n",
    "grads, cost = propagate(w, b, X, Y)\n",
    "print (\"dw = \" + str(grads[\"dw\"]))\n",
    "print (\"db = \" + str(grads[\"db\"]))\n",
    "print (\"cost = \" + str(cost))"
   ]
  },
  {
   "cell_type": "code",
   "execution_count": 141,
   "metadata": {},
   "outputs": [],
   "source": [
    "#Optimization\n",
    "\n",
    "def optimize(w, b, X, Y, num_iterations, learning_rate, print_cost = False):\n",
    "    \"\"\"\n",
    "    This function optimizes w and b by running a gradient descent algorithm\n",
    "    \n",
    "    Arguments:\n",
    "    w -- weights, a numpy array of size (num_px * num_px * 3, 1)\n",
    "    b -- bias, a scalar\n",
    "    X -- data of shape (num_px * num_px * 3, number of examples)\n",
    "    Y -- true \"label\" vector (containing 0 if non-cat, 1 if cat), of shape (1, number of examples)\n",
    "    num_iterations -- number of iterations of the optimization loop\n",
    "    learning_rate -- learning rate of the gradient descent update rule\n",
    "    print_cost -- True to print the loss every 100 steps\n",
    "    \n",
    "    Returns:\n",
    "    params -- dictionary containing the weights w and bias b\n",
    "    grads -- dictionary containing the gradients of the weights and bias with respect to the cost function\n",
    "    costs -- list of all the costs computed during the optimization, this will be used to plot the learning curve.\n",
    "    \n",
    "    Tips:\n",
    "    You basically need to write down two steps and iterate through them:\n",
    "        1) Calculate the cost and the gradient for the current parameters. Use propagate().\n",
    "        2) Update the parameters using gradient descent rule for w and b.\n",
    "    \"\"\"\n",
    "    \n",
    "    costs = []\n",
    "    \n",
    "    for i in range(num_iterations):\n",
    "        \n",
    "        \n",
    "        # Cost and gradient calculation (≈ 1-4 lines of code)\n",
    "        ### START CODE HERE ### \n",
    "        grads, cost = propagate(w=w, b=b, X=X, Y=Y)\n",
    "        ### END CODE HERE ###\n",
    "        \n",
    "        # Retrieve derivatives from grads\n",
    "        dw = grads[\"dw\"]\n",
    "        db = grads[\"db\"]\n",
    "        \n",
    "        # update rule (≈ 2 lines of code)\n",
    "        ### START CODE HERE ###\n",
    "        w = w - (learning_rate * dw)\n",
    "        b = b - (learning_rate * db)\n",
    "        ### END CODE HERE ###\n",
    "        \n",
    "        # Record the costs\n",
    "        if i % 100 == 0:\n",
    "            costs.append(cost)\n",
    "        \n",
    "        # Print the cost every 100 training examples\n",
    "        if print_cost and i % 100 == 0:\n",
    "            print (\"Cost after iteration %i: %f\" %(i, cost))\n",
    "    \n",
    "    params = {\"w\": w,\n",
    "              \"b\": b}\n",
    "    \n",
    "    grads = {\"dw\": dw,\n",
    "             \"db\": db}\n",
    "    \n",
    "    return params, grads, costs"
   ]
  },
  {
   "cell_type": "code",
   "execution_count": 142,
   "metadata": {},
   "outputs": [
    {
     "name": "stdout",
     "output_type": "stream",
     "text": [
      "w = [[0.19033591]\n",
      " [0.12259159]]\n",
      "b = 1.9253598300845747\n",
      "dw = [[0.67752042]\n",
      " [1.41625495]]\n",
      "db = 0.21919450454067652\n"
     ]
    }
   ],
   "source": [
    "#test optimization function\n",
    "\n",
    "params, grads, costs = optimize(w, b, X, Y, num_iterations= 100, learning_rate = 0.009, print_cost = False)\n",
    "\n",
    "print (\"w = \" + str(params[\"w\"]))\n",
    "print (\"b = \" + str(params[\"b\"]))\n",
    "print (\"dw = \" + str(grads[\"dw\"]))\n",
    "print (\"db = \" + str(grads[\"db\"]))"
   ]
  },
  {
   "cell_type": "code",
   "execution_count": 143,
   "metadata": {},
   "outputs": [],
   "source": [
    "\n",
    "def predict(w, b, X):\n",
    "    '''\n",
    "    Predict whether the label is 0 or 1 using learned logistic regression parameters (w, b)\n",
    "    \n",
    "    Arguments:\n",
    "    w -- weights, a numpy array of size (num_px * num_px * 3, 1)\n",
    "    b -- bias, a scalar\n",
    "    X -- data of size (num_px * num_px * 3, number of examples)\n",
    "    \n",
    "    Returns:\n",
    "    Y_prediction -- a numpy array (vector) containing all predictions (0/1) for the examples in X\n",
    "    '''\n",
    "    \n",
    "    m = X.shape[1]\n",
    "    Y_prediction = np.zeros((1,m))\n",
    "\n",
    "   \n",
    "    # Compute vector \"A\" predicting the probabilities of a cat being present in the picture\n",
    "    ### START CODE HERE ### (≈ 1 line of code)\n",
    "    A = sigmoid(np.dot(w.T, X) + b) \n",
    "    ### END CODE HERE ###\n",
    "\n",
    "    for i in range(A.shape[1]):\n",
    "        \n",
    "        if A[0,i] >= 0.75:\n",
    "            Y_prediction[0,i] = 1\n",
    "        # Convert probabilities A[0,i] to actual predictions p[0,i]\n",
    "        ### START CODE HERE ### (≈ 4 lines of code)\n",
    "        pass\n",
    "        ### END CODE HERE ###\n",
    "    \n",
    "    assert(Y_prediction.shape == (1, m))\n",
    "    \n",
    "    return Y_prediction"
   ]
  },
  {
   "cell_type": "code",
   "execution_count": 144,
   "metadata": {},
   "outputs": [
    {
     "name": "stdout",
     "output_type": "stream",
     "text": [
      "predictions = [[0. 0. 0.]]\n"
     ]
    }
   ],
   "source": [
    "#testing \n",
    "w = np.array([[0.1124579],[0.23106775]])\n",
    "b = -0.3\n",
    "X = np.array([[1.,-1.1,-3.2],[1.2,2.,0.1]])\n",
    "print (\"predictions = \" + str(predict(w, b, X)))"
   ]
  },
  {
   "cell_type": "code",
   "execution_count": 145,
   "metadata": {},
   "outputs": [],
   "source": [
    "#Define model \n",
    "\n",
    "# GRADED FUNCTION: model\n",
    "\n",
    "def model(X_train, Y_train, X_test, Y_test, num_iterations = 2000, learning_rate = 0.5, print_cost = False):\n",
    "    \"\"\"\n",
    "    Builds the logistic regression model by calling the function you've implemented previously\n",
    "    \n",
    "    Arguments:\n",
    "    X_train -- training set represented by a numpy array of shape (num_px * num_px * 3, m_train)\n",
    "    Y_train -- training labels represented by a numpy array (vector) of shape (1, m_train)\n",
    "    X_test -- test set represented by a numpy array of shape (num_px * num_px * 3, m_test)\n",
    "    Y_test -- test labels represented by a numpy array (vector) of shape (1, m_test)\n",
    "    num_iterations -- hyperparameter representing the number of iterations to optimize the parameters\n",
    "    learning_rate -- hyperparameter representing the learning rate used in the update rule of optimize()\n",
    "    print_cost -- Set to true to print the cost every 100 iterations\n",
    "    \n",
    "    Returns:\n",
    "    d -- dictionary containing information about the model.\n",
    "    \"\"\"\n",
    "    \n",
    "    ### START CODE HERE ###\n",
    "    \n",
    "    # initialize parameters with zeros (≈ 1 line of code)\n",
    "    w, b = initialize_with_zeros(X_train.shape[0])\n",
    "#     print(\"new w \", w)\n",
    "    # Gradient descent (≈ 1 line of code)\n",
    "    parameters, grads, costs = optimize(w=w, b=b, X=X_train, Y=Y_train, learning_rate=learning_rate, num_iterations=num_iterations)\n",
    "    \n",
    "    # Retrieve parameters w and b from dictionary \"parameters\"\n",
    "    w = parameters[\"w\"]\n",
    "    b = parameters[\"b\"]\n",
    "    \n",
    "    # Predict test/train set examples (≈ 2 lines of code)\n",
    "    Y_prediction_test = predict(w, b, X_test)\n",
    "    Y_prediction_train = predict(w, b, X_train)\n",
    "\n",
    "    ### END CODE HERE ###\n",
    "\n",
    "    # Print train/test Errors\n",
    "    train_acc = 100 - np.mean(np.abs(Y_prediction_train - Y_train)) * 100\n",
    "    test_acc = 100 - np.mean(np.abs(Y_prediction_test - Y_test)) * 100\n",
    "    print(\"train accuracy: {} %\".format(100 - np.mean(np.abs(Y_prediction_train - Y_train)) * 100))\n",
    "    print(\"test accuracy: {} %\".format(100 - np.mean(np.abs(Y_prediction_test - Y_test)) * 100))\n",
    "\n",
    "    \n",
    "    d = {\"costs\": costs,\n",
    "         \"Y_prediction_test\": Y_prediction_test, \n",
    "         \"Y_prediction_train\" : Y_prediction_train, \n",
    "         \"w\" : w, \n",
    "         \"b\" : b,\n",
    "         \"learning_rate\" : learning_rate,\n",
    "         \"num_iterations\": num_iterations,\n",
    "         \"train_acc\":train_acc,\n",
    "         \"test_acc\":test_acc}\n",
    "    \n",
    "    return d"
   ]
  },
  {
   "cell_type": "code",
   "execution_count": null,
   "metadata": {},
   "outputs": [],
   "source": [
    "#train model on Dr.Ng's data to ensure it works correctly. \n",
    "#d = model(train_set_x, train_labels, test_set_x, test_labels, num_iterations = 2000, learning_rate = 0.005, print_cost = True)"
   ]
  },
  {
   "cell_type": "code",
   "execution_count": null,
   "metadata": {},
   "outputs": [
    {
     "name": "stdout",
     "output_type": "stream",
     "text": [
      "train accuracy: 98.56459330143541 %\n",
      "test accuracy: 76.0 %\n"
     ]
    }
   ],
   "source": [
    "# import os\n",
    "# import sys\n",
    "# sys.path(\"./\")\n",
    "from lr_utils import load_dataset\n",
    "\n",
    "train_set_x_orig, train_set_y, test_set_x_orig, test_set_y, classes = load_dataset()\n",
    "\n",
    "train_set_x_flatten = train_set_x_orig.reshape(train_set_x_orig.shape[0], -1).T \n",
    "test_set_x_flatten = test_set_x_orig.reshape(test_set_x_orig.shape[0], -1).T \n",
    "train_set_x = train_set_x_flatten/255.\n",
    "test_set_x = test_set_x_flatten/255.\n",
    "\n",
    "d = model(train_set_x, train_set_y, test_set_x, test_set_y, num_iterations = 5000, learning_rate = 0.005, print_cost = True)"
   ]
  },
  {
   "cell_type": "code",
   "execution_count": null,
   "metadata": {},
   "outputs": [],
   "source": [
    "#function to create the balanced training for each digit model\n",
    "from tensorflow.keras.datasets import mnist\n",
    "import numpy as np\n",
    "\n",
    "\n",
    "\n",
    "# Function to create the dataset for a given digit\n",
    "(train_images_1, train_labels_1), _ = mnist.load_data()\n",
    "def create_dataset_for_digit(digit):\n",
    "    \n",
    "    train_images = deepcopy(train_images_1)\n",
    "    train_labels = deepcopy(train_labels_1)\n",
    "# Flatten the images if necessary\n",
    "    train_images = train_images.reshape((train_images.shape[0], -1))\n",
    "\n",
    "    # Normalize the images\n",
    "    train_images = train_images / 255.0\n",
    "    # Filter images for the current digit\n",
    "    current_digit_images = deepcopy(train_images[train_labels == digit])\n",
    "    current_digit_labels = train_labels[train_labels == digit]\n",
    "    \n",
    "    # Sample 5000 images if necessary\n",
    "    if len(current_digit_images) > 5000:\n",
    "        indices = np.random.choice(range(len(current_digit_images)), 5000, replace=False)\n",
    "        current_digit_images = current_digit_images[indices]\n",
    "        current_digit_labels = current_digit_labels[indices]\n",
    "    \n",
    "    # Images for other digits\n",
    "    other_digits_images = []\n",
    "    other_digits_labels = []\n",
    "    \n",
    "    # Number of samples per other digit to make up 5000 images\n",
    "    samples_per_digit = 5000 // 9\n",
    "    # print(\"sp\", samples_per_digit)\n",
    "    for other_digit in range(10):\n",
    "        if other_digit != digit:\n",
    "            # Filter images for the other digit\n",
    "            images = train_images[train_labels == other_digit]\n",
    "            labels = train_labels[train_labels == other_digit]\n",
    "            \n",
    "            # Sample images\n",
    "            if len(images) > samples_per_digit:\n",
    "                indices = np.random.choice(range(len(images)), samples_per_digit, replace=False)\n",
    "                images = images[indices]\n",
    "                labels = labels[indices]\n",
    "            \n",
    "            other_digits_images.append(images)\n",
    "            other_digits_labels.append(labels)\n",
    "    \n",
    "    # Combine the other digits' images and labels\n",
    "    other_digits_images = np.concatenate(other_digits_images, axis=0)\n",
    "    other_digits_labels = np.concatenate(other_digits_labels, axis=0)\n",
    "    \n",
    "    # Combine current digit with other digits to form the dataset\n",
    "    combined_images = np.concatenate((current_digit_images, other_digits_images), axis=0)\n",
    "    combined_labels = np.concatenate((current_digit_labels, other_digits_labels), axis=0)\n",
    "    \n",
    "    return combined_images, combined_labels"
   ]
  },
  {
   "cell_type": "code",
   "execution_count": null,
   "metadata": {},
   "outputs": [],
   "source": [
    "#shuffle returned data \n",
    "import random \n",
    "def create_dataset(digit):\n",
    "    # Your function that returns samples and labels for the given digit\n",
    "    # For demonstration, let's assume it returns two lists: samples and labels\n",
    "      # Assuming this contains your labels\n",
    "    samples, labels = create_dataset_for_digit(digit)\n",
    "    # Shuffle samples and labels together\n",
    "    shuffled_indices = np.random.permutation(len(samples))\n",
    "    # print(\"Shuffled_indices \", shuffled_indices)\n",
    "    shuffled_samples = samples[shuffled_indices]\n",
    "    shuffled_labels = labels[shuffled_indices]\n",
    "    \n",
    "    return shuffled_samples, shuffled_labels"
   ]
  },
  {
   "cell_type": "code",
   "execution_count": null,
   "metadata": {},
   "outputs": [
    {
     "name": "stdout",
     "output_type": "stream",
     "text": [
      "Training and Testing Digit 0\n",
      "train accuracy: 88.45422711355678 %\n",
      "test accuracy: 90.83 %\n",
      "Training and Testing Digit 1\n",
      "train accuracy: 92.90645322661331 %\n",
      "test accuracy: 94.88 %\n",
      "Training and Testing Digit 2\n",
      "train accuracy: 81.85092546273137 %\n",
      "test accuracy: 84.3 %\n",
      "Training and Testing Digit 3\n",
      "train accuracy: 80.29014507253626 %\n",
      "test accuracy: 81.11 %\n",
      "Training and Testing Digit 4\n",
      "train accuracy: 75.62781390695348 %\n",
      "test accuracy: 75.89 %\n",
      "Training and Testing Digit 5\n",
      "train accuracy: 70.4552276138069 %\n",
      "test accuracy: 74.66 %\n",
      "Training and Testing Digit 6\n",
      "train accuracy: 82.4712356178089 %\n",
      "test accuracy: 79.71000000000001 %\n",
      "Training and Testing Digit 7\n",
      "train accuracy: 82.88144072036019 %\n",
      "test accuracy: 81.03999999999999 %\n",
      "Training and Testing Digit 8\n",
      "train accuracy: 74.13706853426713 %\n",
      "test accuracy: 77.9 %\n",
      "Training and Testing Digit 9\n",
      "train accuracy: 72.9264632316158 %\n",
      "test accuracy: 74.45 %\n",
      "Training  [88.45422711355678, 92.90645322661331, 81.85092546273137, 80.29014507253626, 75.62781390695348, 70.4552276138069, 82.4712356178089, 82.88144072036019, 74.13706853426713, 72.9264632316158]\n",
      "Testing  [90.83, 94.88, 84.3, 81.11, 75.89, 74.66, 79.71000000000001, 81.03999999999999, 77.9, 74.45]\n"
     ]
    }
   ],
   "source": [
    "from copy import deepcopy\n",
    "_, (test_images, test_labels) = mnist.load_data()\n",
    "# Flatten the images if necessary\n",
    "test_images = test_images.reshape((test_images.shape[0], -1))\n",
    "# Normalize the images\n",
    "test_images = test_images / 255.0\n",
    "\n",
    "train_accuracy_digits =[]\n",
    "test_accuracy_digits =[]\n",
    "for i in range(10):\n",
    "    print(f\"Training and Testing Digit {i}\")\n",
    "    curr_test_labels = deepcopy(test_labels) #it hurts memory complexity but otherwise the shallow copies were making the model to be trained on the same training set at all times\n",
    "    \n",
    "    if i==0:\n",
    "        curr_test_labels [ curr_test_labels == 1 ] =5 \n",
    "        curr_test_labels [ curr_test_labels == i ]= 1\n",
    "        curr_test_labels [ curr_test_labels != 1 ]= 0\n",
    "    else:\n",
    "        curr_test_labels [ curr_test_labels == i ]= 1\n",
    "        curr_test_labels [ curr_test_labels != 1 ]= 0\n",
    "        \n",
    "    shuffled_samples, shuffled_labels = create_dataset(i)\n",
    "\n",
    "   \n",
    "    if i ==0 :\n",
    "        shuffled_labels[shuffled_labels== 1] = 5 #just so we can get rid of it \n",
    "        shuffled_labels[shuffled_labels== i] = 1\n",
    "        shuffled_labels[shuffled_labels!= 1] = 0\n",
    "    else:\n",
    "        shuffled_labels[shuffled_labels== i] = 1\n",
    "        shuffled_labels[shuffled_labels!= 1] = 0\n",
    " \n",
    "    #we need to pass the transpose because of the way I'm splliting and shuflling the data we get (x, 784) and we want it to be (784, X) \n",
    "    d = model(shuffled_samples.T, shuffled_labels, test_images.T, curr_test_labels, num_iterations = 1000, learning_rate = 0.01, print_cost = True)\n",
    "    train_accuracy_digits.append(d[\"train_acc\"])\n",
    "    test_accuracy_digits.append(d[\"test_acc\"])\n",
    "\n",
    "print(\"Training \", train_accuracy_digits)\n",
    "print(\"Testing \", test_accuracy_digits)"
   ]
  },
  {
   "cell_type": "code",
   "execution_count": null,
   "metadata": {},
   "outputs": [],
   "source": [
    "#clean values for plotting later\n",
    "train_accuracy_digits = [\"{:.2f}\".format(acc) for acc in train_accuracy_digits]\n",
    "test_accuracy_digits = [\"{:.2f}\".format(acc) for acc in test_accuracy_digits]\n",
    "train_accuracy_digits = [float(i) for i in train_accuracy_digits]\n",
    "test_accuracy_digits = [float(i) for i in test_accuracy_digits]"
   ]
  },
  {
   "cell_type": "code",
   "execution_count": null,
   "metadata": {},
   "outputs": [
    {
     "data": {
      "text/plain": [
       "<matplotlib.image.AxesImage at 0x154e00160>"
      ]
     },
     "execution_count": 126,
     "metadata": {},
     "output_type": "execute_result"
    },
    {
     "data": {
      "image/png": "[encoded data removed]",
      "text/plain": [
       "<Figure size 640x480 with 1 Axes>"
      ]
     },
     "metadata": {},
     "output_type": "display_data"
    }
   ],
   "source": [
    "#Visualize what my single neuron is learning \n",
    "d[\"w\"].shape\n",
    "plt.imshow(d[\"w\"].reshape((28,28)), cmap='hot')"
   ]
  },
  {
   "cell_type": "code",
   "execution_count": null,
   "metadata": {},
   "outputs": [
    {
     "data": {
      "text/plain": [
       "<Figure size 1000x1600 with 0 Axes>"
      ]
     },
     "metadata": {},
     "output_type": "display_data"
    },
    {
     "data": {
      "image/png": "[encoded data removed]",
      "text/plain": [
       "<Figure size 640x480 with 1 Axes>"
      ]
     },
     "metadata": {},
     "output_type": "display_data"
    }
   ],
   "source": [
    "#Plot accuracy for test and training for each digit model  \n",
    "# Sample data\n",
    "categories = [str(i) for i in range(10)]\n",
    "values1 = train_accuracy_digits  # Values for the first set of bars\n",
    "values2 = test_accuracy_digits   # Values for the second set of bars\n",
    "\n",
    "x = np.arange(len(categories))  # the label locations\n",
    "width = 0.30  # the width of the bars\n",
    "plt.rcParams.update({'font.family': 'serif', 'font.serif': ['Times New Roman']})\n",
    "\n",
    "plt.figure(figsize=(10, 16))\n",
    "fig, ax = plt.subplots()\n",
    "\n",
    "bars1 = ax.bar(x - width/2, values1, width, label='Train')\n",
    "bars2 = ax.bar(x + width/2, values2, width, label='Test')\n",
    "\n",
    "# Add some text for labels, title and custom x-axis tick labels, etc.\n",
    "ax.set_ylabel('Accuracy %')\n",
    "ax.set_title('Accuracy Train X Test')\n",
    "ax.set_xlabel(\"Digit\")\n",
    "ax.set_xticks(x)\n",
    "ax.set_xticklabels(categories)\n",
    "ax.legend()\n",
    "\n",
    "# Label each bar with their respective values\n",
    "def autolabel(bars):\n",
    "    \"\"\"Attach a text label above each bar in *bars*, displaying its height.\"\"\"\n",
    "    for bar in bars:\n",
    "        height = bar.get_height()\n",
    "       \n",
    "        ax.annotate('{}'.format(height),\n",
    "                    xy=(bar.get_x() + bar.get_width() / 2, height),\n",
    "                    xytext=(0, 3),  # 3 points vertical offset\n",
    "                    textcoords=\"offset points\",\n",
    "                    ha='center', va='bottom', fontsize=3.5)\n",
    "\n",
    "autolabel(bars1)\n",
    "autolabel(bars2)\n",
    "\n",
    "plt.savefig('part1_1000iter_001_lr.png', dpi=300)  # You can change the file format and DPI as needed\n",
    "\n",
    "plt.show()"
   ]
  },
  {
   "cell_type": "markdown",
   "metadata": {},
   "source": [
    "## PART 2\n"
   ]
  },
  {
   "cell_type": "code",
   "execution_count": 48,
   "metadata": {},
   "outputs": [],
   "source": [
    "def model_part2(X_train, Y_train, X_test, Y_test, layer_1 =100, output=10, num_iterations = 2000, learning_rate = 0.5, print_cost = False):\n",
    "    \"\"\"\n",
    "    Builds the logistic regression model by calling the function you've implemented previously\n",
    "    \n",
    "    Arguments:\n",
    "    X_train -- training set represented by a numpy array of shape (num_px * num_px * 3, m_train)\n",
    "    Y_train -- training labels represented by a numpy array (vector) of shape (1, m_train)\n",
    "    X_test -- test set represented by a numpy array of shape (num_px * num_px * 3, m_test)\n",
    "    Y_test -- test labels represented by a numpy array (vector) of shape (1, m_test)\n",
    "    num_iterations -- hyperparameter representing the number of iterations to optimize the parameters\n",
    "    learning_rate -- hyperparameter representing the learning rate used in the update rule of optimize()\n",
    "    print_cost -- Set to true to print the cost every 100 iterations\n",
    "    \n",
    "    Returns:\n",
    "    d -- dictionary containing information about the model.\n",
    "    \"\"\"\n",
    "    \n",
    "    ### START CODE HERE ###\n",
    "    \n",
    "    # initialize parameters with zeros (≈ 1 line of code)\n",
    "    \n",
    "    w_1= np.random.randn(layer_1, X_train.shape[1])\n",
    "    b_1= 0\n",
    "\n",
    "    w_2=np.random.randn(output, layer_1)\n",
    "    b_2=0\n",
    "    # break\n",
    "#     print(\"new w \", w)\n",
    "    # Gradient descent (≈ 1 line of code)\n",
    "    parameters, grads, costs = optimize_part2(w_1=w_1, b_1=b_1, w_2=w_2, b_2=b_2, X=X_train, Y=Y_train, learning_rate=learning_rate, num_iterations=num_iterations)\n",
    "    \n",
    "    # Retrieve parameters w and b from dictionary \"parameters\"\n",
    "    w_1 = parameters[\"w_1\"]\n",
    "    b_1 = parameters[\"b_1\"]\n",
    "    w_2 = parameters[\"w_2\"]\n",
    "    b_2 = parameters[\"b_2\"]\n",
    "    \n",
    "    # Predict test/train set examples (≈ 2 lines of code)\n",
    "    Y_prediction_train = predict_part2(w_1, b_1, w_2, b_2, X_train)\n",
    "    Y_prediction_test = predict_part2(w_1, b_1, w_2, b_2, X_test)\n",
    "   \n",
    "    \n",
    "    ### END CODE HERE ###\n",
    "\n",
    "    # # Print train/test Errors\n",
    "    train_acc = 100 - np.mean(np.abs(Y_prediction_train - Y_train)) * 100\n",
    "    test_acc = 100 - np.mean(np.abs(Y_prediction_test - Y_test)) * 100\n",
    "    print(\"train accuracy: {} %\".format(train_acc))\n",
    "    print(\"test accuracy: {} %\".format(test_acc))\n",
    "\n",
    "    \n",
    "    d = {\"costs\": costs,\n",
    "         \"Y_prediction_test\": Y_prediction_test, \n",
    "         \"Y_prediction_train\" : Y_prediction_train, \n",
    "         \"w_1\" : w_1, \n",
    "         \"b_1\" : b_1,\n",
    "        \"w_2\" : w_2, \n",
    "         \"b_2\" : b_2,\n",
    "         \"learning_rate\" : learning_rate,\n",
    "         \"num_iterations\": num_iterations,\n",
    "         \"train_acc\":train_acc,\n",
    "         \"test_acc\":test_acc}\n",
    "    \n",
    "    return d"
   ]
  },
  {
   "cell_type": "code",
   "execution_count": 49,
   "metadata": {},
   "outputs": [],
   "source": [
    "def relu(x):\n",
    "        return np.maximum(0, x)"
   ]
  },
  {
   "cell_type": "code",
   "execution_count": 51,
   "metadata": {},
   "outputs": [],
   "source": [
    "def optimize_part2(w_1,b_1,w_2, b_2, X, Y, num_iterations, learning_rate, print_cost = False):\n",
    "    \"\"\"\n",
    "    This function optimizes w and b by running a gradient descent algorithm\n",
    "    \n",
    "    Arguments:\n",
    "    w -- weights, a numpy array of size (num_px * num_px * 3, 1)\n",
    "    b -- bias, a scalar\n",
    "    X -- data of shape (num_px * num_px * 3, number of examples)\n",
    "    Y -- true \"label\" vector (containing 0 if non-cat, 1 if cat), of shape (1, number of examples)\n",
    "    num_iterations -- number of iterations of the optimization loop\n",
    "    learning_rate -- learning rate of the gradient descent update rule\n",
    "    print_cost -- True to print the loss every 100 steps\n",
    "    \n",
    "    Returns:\n",
    "    params -- dictionary containing the weights w and bias b\n",
    "    grads -- dictionary containing the gradients of the weights and bias with respect to the cost function\n",
    "    costs -- list of all the costs computed during the optimization, this will be used to plot the learning curve.\n",
    "    \n",
    "    Tips:\n",
    "    You basically need to write down two steps and iterate through them:\n",
    "        1) Calculate the cost and the gradient for the current parameters. Use propagate().\n",
    "        2) Update the parameters using gradient descent rule for w and b.\n",
    "    \"\"\"\n",
    "    \n",
    "    costs = []\n",
    "    \n",
    "    for i in range(num_iterations):\n",
    "        \n",
    "        \n",
    "        # Cost and gradient calculation (≈ 1-4 lines of code)\n",
    "        ### START CODE HERE ### \n",
    "        grads, cost = propagate_part2(w_1=w_1, b_1=b_1,w_2=w_2, b_2=b_2, X=X, Y=Y)\n",
    "        ### END CODE HERE ###\n",
    "        \n",
    "        # Retrieve derivatives from grads\n",
    "        dw_1 = grads[\"dw_1\"]\n",
    "        db_1 = grads[\"db_1\"]\n",
    "        dw_2 = grads[\"dw_2\"]\n",
    "        db_2 = grads[\"db_2\"]\n",
    "        \n",
    "        # update rule (≈ 2 lines of code)\n",
    "        ### START CODE HERE ###\n",
    "        w_1 = w_1 - (learning_rate * dw_1)\n",
    "        b_1 = b_1 - (learning_rate * db_1)\n",
    "        w_2 = w_2 - (learning_rate * dw_2)\n",
    "        b_2 = b_2 - (learning_rate * db_2)\n",
    "        ### END CODE HERE ###\n",
    "        \n",
    "        # Record the costs\n",
    "        if i % 100 == 0:\n",
    "            costs.append(cost)\n",
    "        \n",
    "        # Print the cost every 100 training examples\n",
    "        if print_cost and i % 100 == 0:\n",
    "            print (\"Cost after iteration %i: %f\" %(i, cost))\n",
    "    \n",
    "    params = {\"w_1\": w_1,\n",
    "              \"b_1\": b_1, \n",
    "              \"w_2\": w_2,\n",
    "              \"b_2\": b_2\n",
    "              }\n",
    "    \n",
    "    grads = {\"dw_1\": dw_1,\n",
    "             \"db_1\": db_1,\n",
    "             \"dw_2\": dw_2,\n",
    "             \"db_2\": db_2,  \n",
    "             }\n",
    "    \n",
    "    return params, grads, costs"
   ]
  },
  {
   "cell_type": "code",
   "execution_count": 52,
   "metadata": {},
   "outputs": [],
   "source": [
    "def softmax(x):\n",
    "    \"\"\"\n",
    "    Compute softmax values for each sets of scores in x.\n",
    "    \n",
    "    Arguments:\n",
    "    x -- A numpy array of shape (n_samples, n_classes)\n",
    "    \n",
    "    Returns:\n",
    "    A numpy array of shape (n_samples, n_classes) containing the softmax values.\n",
    "    \"\"\"\n",
    "    # Subtract the maximum value from each element of x for numerical stability\n",
    "    exp_x = np.exp(x - np.max(x, axis=1, keepdims=True))\n",
    "    \n",
    "    # Compute softmax values for each sample\n",
    "    softmax_scores = exp_x / np.sum(exp_x, axis=1, keepdims=True)\n",
    "    \n",
    "    return softmax_scores"
   ]
  },
  {
   "cell_type": "code",
   "execution_count": 53,
   "metadata": {},
   "outputs": [],
   "source": [
    "def predict_part2(w_1, b_1,w_2, b_2, X):\n",
    "    '''\n",
    "    Predict whether the label is 0 or 1 using learned logistic regression parameters (w, b)\n",
    "    \n",
    "    Arguments:\n",
    "    w -- weights, a numpy array of size (num_px * num_px * 3, 1)\n",
    "    b -- bias, a scalar\n",
    "    X -- data of size (num_px * num_px * 3, number of examples)\n",
    "    \n",
    "    Returns:\n",
    "    Y_prediction -- a numpy array (vector) containing all predictions (0/1) for the examples in X\n",
    "    '''\n",
    "    \n",
    "    m = X.shape[0]\n",
    "    Y_prediction = np.zeros((m,1))\n",
    "  \n",
    "    \n",
    "    z_1=np.dot( X,w_1.T) #better to compute it in separate for backprop later \n",
    "    z_1 = z_1 + b_1  \n",
    "    A_1 = relu(z_1)    #Non-linear act of first layer \n",
    "    A_2 = softmax(np.dot(A_1, w_2.T) + b_2)\n",
    "    \n",
    "    predictions = np.argmax(A_2, axis=1)\n",
    "    Y_prediction = predictions\n",
    "\n",
    "    ### END CODE HERE ###\n",
    "\n",
    "    \n",
    "    assert(Y_prediction.shape == (m,))\n",
    "    \n",
    "    return Y_prediction"
   ]
  },
  {
   "cell_type": "code",
   "execution_count": 54,
   "metadata": {},
   "outputs": [],
   "source": [
    "def one_hot_encode(y, num_classes):\n",
    "        one_hot = np.zeros((y.shape[0], num_classes))\n",
    "        for i, val in enumerate(y):\n",
    "            one_hot[i, val] = 1\n",
    "        return one_hot"
   ]
  },
  {
   "cell_type": "code",
   "execution_count": 55,
   "metadata": {},
   "outputs": [],
   "source": [
    "def relu_derivative(x):\n",
    "        return np.where(x > 0, 1, 0)"
   ]
  },
  {
   "cell_type": "code",
   "execution_count": 56,
   "metadata": {},
   "outputs": [],
   "source": [
    "def propagate_part2(w_1, b_1,w_2,b_2, X, Y):\n",
    "    \"\"\"\n",
    "    Implement the cost function and its gradient for the propagation explained above\n",
    "\n",
    "    Arguments:\n",
    "    w -- weights, a numpy array of size (num_px * num_px * 3, 1)\n",
    "    b -- bias, a scalar\n",
    "    X -- data of size (num_px * num_px * 3, number of examples)\n",
    "    Y -- true \"label\" vector (containing 0 if non-cat, 1 if cat) of size (1, number of examples)\n",
    "\n",
    "    Return:\n",
    "    cost -- negative log-likelihood cost for logistic regression\n",
    "    dw -- gradient of the loss with respect to w, thus same shape as w\n",
    "    db -- gradient of the loss with respect to b, thus same shape as b\n",
    "    \n",
    "    Tips:\n",
    "    - Write your code step by step for the propagation. np.log(), np.dot()\n",
    "    \"\"\"\n",
    "    \n",
    "    m = X.shape[1]\n",
    "    # print(\"M\", m)\n",
    "    epsilon = 1e-8\n",
    "    # FORWARD PROPAGATION (FROM X TO COST)\n",
    "    ### START CODE HERE ### (≈ 2 lines of code)\n",
    "    z_1=np.dot( X,w_1.T) #better to compute it in separate for backprop later \n",
    "    z_1 = z_1 + b_1  \n",
    "    A_1 = relu(z_1)    #Non-linear act of first layer \n",
    "    A_2 = softmax(np.dot(A_1, w_2.T) + b_2) #linear transf + nonlinear act of output layer\n",
    "    \n",
    "\n",
    "    # compute cost\n",
    "    y_pred = np.clip(A_2, epsilon, 1 - epsilon) # we want to clip the values to avoid log 0 --> it causes NaN\n",
    "    # print(\"Shape \", one_hot_encode(Y,10).shape)\n",
    "    cost=  -np.mean(np.sum(one_hot_encode(Y,10) * np.log(y_pred), axis=1))\n",
    "    # print(one_hot_encode(Y,10)[:10])\n",
    "    \n",
    "    # BACKWARD PROPAGATION (TO FIND GRAD)\n",
    "    dz_2= A_2- one_hot_encode(Y, A_2.shape[1])\n",
    "    dw_2 =(1/m)* np.dot(dz_2.T, A_1) \n",
    "    db_2 = (1/m) * np.sum(dz_2)\n",
    "    da_1 = np.dot(dz_2, w_2)\n",
    "    dA_1_clip = np.clip(A_1, 0, None)  # Clip negative values to 0\n",
    "    dA_1_clip[dA_1_clip > 0] = 1  # Set positive values to 1 (derivative of ReLU)\n",
    "    dz_1 = da_1 * dA_1_clip\n",
    "\n",
    "    # print(\"shape dz1 \",dz_1.shape)\n",
    "    dw_1 = (1/m) * np.dot(dz_1.T, X)\n",
    "    db_1 = (1/m) * np.sum(dz_1)\n",
    "    ### END CODE HERE ###\n",
    "\n",
    "    assert(dw_1.shape == w_1.shape)\n",
    "    assert(db_1.dtype == float)\n",
    "    assert(db_2.dtype == float)\n",
    "    cost = np.squeeze(cost)\n",
    "    assert(cost.shape == ())\n",
    "    \n",
    "    grads = {\"dw_1\": dw_1,\n",
    "             \"db_1\": db_1, \n",
    "             \"dw_2\": dw_2,\n",
    "             \"db_2\": db_2,\n",
    "             }\n",
    "    \n",
    "    return grads, cost"
   ]
  },
  {
   "cell_type": "code",
   "execution_count": 33,
   "metadata": {},
   "outputs": [
    {
     "name": "stdout",
     "output_type": "stream",
     "text": [
      "A2 shape  (60000, 10)\n",
      "Predictions  (60000,)\n",
      "Shape y pred  (60000, 1)\n",
      "New y pred shape  (60000,)\n",
      "A2 shape  (10000, 10)\n",
      "Predictions  (10000,)\n",
      "Shape y pred  (10000, 1)\n",
      "New y pred shape  (10000,)\n",
      "Y_prediction train [5 0 9 1 9 2 1 3 1 4 3 5 3 6 1 7 3 8 6 9 4 0 9 1 7 2 4 3 7 7 3 8 6 9 0 5 6\n",
      " 0 7 6 1 8 7 9 3 9 8 5 5 3 3 0 7 5 9 8 0 9 4 1 4 4 6 0 4 5 6 1 0 0 1 7 1 6\n",
      " 3 0 2 1 7 7 0 0 2 6 7 8 3 9 0 4 6 7 4 6 8 0 7 8 3 1]\n",
      "Y_train  [5 0 4 1 9 2 1 3 1 4 3 5 3 6 1 7 2 8 6 9 4 0 9 1 1 2 4 3 2 7 3 8 6 9 0 5 6\n",
      " 0 7 6 1 8 7 9 3 9 8 5 9 3 3 0 7 4 9 8 0 9 4 1 4 4 6 0 4 5 6 1 0 0 1 7 1 6\n",
      " 3 0 2 1 1 7 9 0 2 6 7 8 3 9 0 4 6 7 4 6 8 0 7 8 3 1]\n",
      "Y_train shape  (60000,)\n",
      "train accuracy: 58.37 %\n",
      "test accuracy: 57.440000000000005 %\n"
     ]
    }
   ],
   "source": [
    "(train_images, Y_train), (test_images, Y_test) = mnist.load_data()\n",
    "\n",
    "test_images = test_images.reshape((test_images.shape[0], -1))\n",
    "X_test = test_images / 255.0\n",
    "train_images = train_images.reshape((train_images.shape[0], -1))\n",
    "X_train = train_images / 255.0\n",
    "\n",
    "d_2000_0005 = model_part2(X_train, Y_train, X_test, Y_test,print_cost=True, num_iterations=2000, learning_rate=0.005)\n"
   ]
  },
  {
   "cell_type": "markdown",
   "metadata": {},
   "source": [
    "2000 Epochs | hidden layer = 100 nodes | lr = 0.005\n",
    "<ul>\n",
    "<li>train accuracy: 58.37 %</li>\n",
    "<li>test accuracy: 57.440000000000005 %</li>\n",
    "</ul> "
   ]
  },
  {
   "cell_type": "code",
   "execution_count": 34,
   "metadata": {},
   "outputs": [
    {
     "name": "stdout",
     "output_type": "stream",
     "text": [
      "A2 shape  (60000, 10)\n",
      "Predictions  (60000,)\n",
      "Shape y pred  (60000, 1)\n",
      "New y pred shape  (60000,)\n",
      "A2 shape  (10000, 10)\n",
      "Predictions  (10000,)\n",
      "Shape y pred  (10000, 1)\n",
      "New y pred shape  (10000,)\n",
      "Y_prediction train [5 0 4 1 9 8 1 3 1 4 3 6 3 6 1 7 2 8 6 9 4 0 9 1 6 2 4 3 7 7 3 8 6 9 0 0 6\n",
      " 0 7 6 1 8 7 9 3 9 8 5 5 3 3 0 7 7 9 8 0 7 4 1 4 4 6 0 4 5 6 1 0 0 1 7 1 6\n",
      " 3 0 2 1 1 7 0 0 2 6 7 8 3 9 0 4 6 7 4 6 8 0 7 8 3 1]\n",
      "Y_train  [5 0 4 1 9 2 1 3 1 4 3 5 3 6 1 7 2 8 6 9 4 0 9 1 1 2 4 3 2 7 3 8 6 9 0 5 6\n",
      " 0 7 6 1 8 7 9 3 9 8 5 9 3 3 0 7 4 9 8 0 9 4 1 4 4 6 0 4 5 6 1 0 0 1 7 1 6\n",
      " 3 0 2 1 1 7 9 0 2 6 7 8 3 9 0 4 6 7 4 6 8 0 7 8 3 1]\n",
      "Y_train shape  (60000,)\n",
      "train accuracy: 42.955 %\n",
      "test accuracy: 46.25 %\n"
     ]
    }
   ],
   "source": [
    "d_1000_0005 = model_part2(X_train, Y_train, X_test, Y_test,print_cost=True, num_iterations=1000, learning_rate=0.005)\n"
   ]
  },
  {
   "cell_type": "markdown",
   "metadata": {},
   "source": [
    "1000 Epochs | hidden layer = 100 nodes | lr = 0.005 <br>\n",
    "<ul>\n",
    "<li> train accuracy: 42.955 % </li> \n",
    "<li> test accuracy: 46.25 % </li> \n",
    "</ul>"
   ]
  },
  {
   "cell_type": "code",
   "execution_count": 35,
   "metadata": {},
   "outputs": [
    {
     "name": "stdout",
     "output_type": "stream",
     "text": [
      "A2 shape  (60000, 10)\n",
      "Predictions  (60000,)\n",
      "Shape y pred  (60000, 1)\n",
      "New y pred shape  (60000,)\n",
      "A2 shape  (10000, 10)\n",
      "Predictions  (10000,)\n",
      "Shape y pred  (10000, 1)\n",
      "New y pred shape  (10000,)\n",
      "Y_prediction train [0 0 0 0 0 0 0 0 0 0 0 0 0 0 0 0 0 0 0 0 0 0 0 0 0 0 0 0 0 0 0 0 0 0 0 0 0\n",
      " 0 0 0 0 0 0 0 0 0 0 0 0 0 0 0 0 0 0 0 0 0 0 0 0 0 0 0 0 0 0 0 0 0 0 0 0 0\n",
      " 0 0 0 0 0 0 0 0 0 0 0 0 0 0 0 0 0 0 0 0 0 0 0 0 0 0]\n",
      "Y_train  [5 0 4 1 9 2 1 3 1 4 3 5 3 6 1 7 2 8 6 9 4 0 9 1 1 2 4 3 2 7 3 8 6 9 0 5 6\n",
      " 0 7 6 1 8 7 9 3 9 8 5 9 3 3 0 7 4 9 8 0 9 4 1 4 4 6 0 4 5 6 1 0 0 1 7 1 6\n",
      " 3 0 2 1 1 7 9 0 2 6 7 8 3 9 0 4 6 7 4 6 8 0 7 8 3 1]\n",
      "Y_train shape  (60000,)\n",
      "train accuracy: -345.3933333333334 %\n",
      "test accuracy: -344.34 %\n"
     ]
    }
   ],
   "source": [
    "d_1000_005 = model_part2(X_train, Y_train, X_test, Y_test,print_cost=True, num_iterations=1000, learning_rate=0.05)\n"
   ]
  },
  {
   "cell_type": "markdown",
   "metadata": {},
   "source": [
    "1000 Epochs | hidden layer = 100 nodes | lr = 0.05 <br>\n",
    "<ul>\n",
    "<li> train accuracy: -345.3933333333334 % </li> \n",
    "<li> test accuracy: -344.34 % </li> \n",
    "<ul>"
   ]
  },
  {
   "cell_type": "code",
   "execution_count": 36,
   "metadata": {},
   "outputs": [
    {
     "name": "stdout",
     "output_type": "stream",
     "text": [
      "A2 shape  (60000, 10)\n",
      "Predictions  (60000,)\n",
      "Shape y pred  (60000, 1)\n",
      "New y pred shape  (60000,)\n",
      "A2 shape  (10000, 10)\n",
      "Predictions  (10000,)\n",
      "Shape y pred  (10000, 1)\n",
      "New y pred shape  (10000,)\n",
      "Y_prediction train [3 0 4 1 9 2 1 3 1 4 3 8 3 6 1 7 2 8 6 9 4 0 9 1 2 2 4 3 7 0 3 1 6 7 0 5 6\n",
      " 0 7 6 1 8 7 9 3 9 8 5 3 3 3 0 7 5 7 8 0 9 4 1 4 4 6 0 4 6 6 1 0 0 2 7 1 6\n",
      " 3 0 8 1 1 7 2 0 2 6 7 8 0 9 0 4 6 7 4 6 8 0 7 8 3 1]\n",
      "Y_train  [5 0 4 1 9 2 1 3 1 4 3 5 3 6 1 7 2 8 6 9 4 0 9 1 1 2 4 3 2 7 3 8 6 9 0 5 6\n",
      " 0 7 6 1 8 7 9 3 9 8 5 9 3 3 0 7 4 9 8 0 9 4 1 4 4 6 0 4 5 6 1 0 0 1 7 1 6\n",
      " 3 0 2 1 1 7 9 0 2 6 7 8 3 9 0 4 6 7 4 6 8 0 7 8 3 1]\n",
      "Y_train shape  (60000,)\n",
      "train accuracy: 45.166666666666664 %\n",
      "test accuracy: 48.209999999999994 %\n"
     ]
    }
   ],
   "source": [
    "d_1000_001 = model_part2(X_train, Y_train, X_test, Y_test,print_cost=True, num_iterations=1000, learning_rate=0.01)"
   ]
  },
  {
   "cell_type": "markdown",
   "metadata": {},
   "source": [
    "1000 Epochs | hidden layer = 100 nodes | lr = 0.01\n",
    "<ul>\n",
    "<li>train accuracy: 45.166666666666664 % </li> \n",
    "<li>test accuracy: 48.209999999999994 %</li> \n",
    "</ul>"
   ]
  },
  {
   "cell_type": "code",
   "execution_count": 37,
   "metadata": {},
   "outputs": [
    {
     "name": "stdout",
     "output_type": "stream",
     "text": [
      "A2 shape  (60000, 10)\n",
      "Predictions  (60000,)\n",
      "Shape y pred  (60000, 1)\n",
      "New y pred shape  (60000,)\n",
      "A2 shape  (10000, 10)\n",
      "Predictions  (10000,)\n",
      "Shape y pred  (10000, 1)\n",
      "New y pred shape  (10000,)\n",
      "Y_prediction train [5 0 4 1 9 2 1 3 1 4 3 5 3 6 1 7 2 8 6 9 4 0 9 1 1 2 4 3 2 7 3 8 6 9 0 5 6\n",
      " 0 7 6 1 8 7 9 3 9 8 5 5 3 3 0 7 4 9 8 0 9 4 1 4 4 6 0 4 5 6 1 0 0 1 7 1 6\n",
      " 3 0 2 1 1 7 0 0 2 6 7 8 3 9 0 4 6 7 4 6 8 0 7 8 3 1]\n",
      "Y_train  [5 0 4 1 9 2 1 3 1 4 3 5 3 6 1 7 2 8 6 9 4 0 9 1 1 2 4 3 2 7 3 8 6 9 0 5 6\n",
      " 0 7 6 1 8 7 9 3 9 8 5 9 3 3 0 7 4 9 8 0 9 4 1 4 4 6 0 4 5 6 1 0 0 1 7 1 6\n",
      " 3 0 2 1 1 7 9 0 2 6 7 8 3 9 0 4 6 7 4 6 8 0 7 8 3 1]\n",
      "Y_train shape  (60000,)\n",
      "train accuracy: 79.76 %\n",
      "test accuracy: 74.52 %\n"
     ]
    }
   ],
   "source": [
    "d_2000_0005 = model_part2(X_train, Y_train, X_test, Y_test,print_cost=True, num_iterations=10000, learning_rate=0.005)"
   ]
  },
  {
   "cell_type": "markdown",
   "metadata": {},
   "source": [
    "10000 Epochs | hidden layer = 100 nodes | lr = 0.005\n",
    "<ul>\n",
    "<li>train accuracy: 79.76 %</li> \n",
    "<li>test accuracy: 74.52 %</li> \n",
    "</ul>"
   ]
  },
  {
   "cell_type": "code",
   "execution_count": 40,
   "metadata": {},
   "outputs": [
    {
     "name": "stdout",
     "output_type": "stream",
     "text": [
      "A2 shape  (60000, 10)\n",
      "Predictions  (60000,)\n",
      "Shape y pred  (60000, 1)\n",
      "New y pred shape  (60000,)\n",
      "A2 shape  (10000, 10)\n",
      "Predictions  (10000,)\n",
      "Shape y pred  (10000, 1)\n",
      "New y pred shape  (10000,)\n",
      "Y_prediction train [3 0 4 1 4 4 1 3 1 4 3 0 3 6 1 7 2 8 0 9 4 0 9 1 2 2 4 3 7 8 3 3 6 7 0 3 6\n",
      " 0 7 6 1 8 9 9 3 9 5 5 5 3 3 0 7 5 9 8 0 9 4 1 2 4 6 0 6 3 6 1 0 0 1 4 1 6\n",
      " 3 0 2 1 1 7 8 0 2 6 7 8 5 9 0 4 6 7 2 6 8 0 7 8 3 1]\n",
      "Y_train  [5 0 4 1 9 2 1 3 1 4 3 5 3 6 1 7 2 8 6 9 4 0 9 1 1 2 4 3 2 7 3 8 6 9 0 5 6\n",
      " 0 7 6 1 8 7 9 3 9 8 5 9 3 3 0 7 4 9 8 0 9 4 1 4 4 6 0 4 5 6 1 0 0 1 7 1 6\n",
      " 3 0 2 1 1 7 9 0 2 6 7 8 3 9 0 4 6 7 4 6 8 0 7 8 3 1]\n",
      "Y_train shape  (60000,)\n",
      "train accuracy: 27.185000000000002 %\n",
      "test accuracy: 28.42 %\n"
     ]
    }
   ],
   "source": [
    "d_1000_0005 = model_part2(X_train, Y_train, X_test, Y_test,print_cost=True, num_iterations=1000, learning_rate=0.005, layer_1=200)"
   ]
  },
  {
   "cell_type": "markdown",
   "metadata": {},
   "source": [
    "1000 Epochs | hidden layer = 100 nodes | lr = 0.005\n",
    "<ul>\n",
    "<li>train accuracy: 27.185000000000002%</li> \n",
    "<li>test accuracy: 28.42%</li> \n",
    "</ul>"
   ]
  },
  {
   "cell_type": "code",
   "execution_count": 41,
   "metadata": {},
   "outputs": [
    {
     "name": "stdout",
     "output_type": "stream",
     "text": [
      "A2 shape  (60000, 10)\n",
      "Predictions  (60000,)\n",
      "Shape y pred  (60000, 1)\n",
      "New y pred shape  (60000,)\n",
      "A2 shape  (10000, 10)\n",
      "Predictions  (10000,)\n",
      "Shape y pred  (10000, 1)\n",
      "New y pred shape  (10000,)\n",
      "Y_prediction train [3 0 4 1 4 2 1 3 1 4 3 3 3 6 1 7 2 8 6 9 4 0 9 1 5 2 4 3 2 8 3 8 6 7 0 5 6\n",
      " 0 7 6 1 8 7 9 3 9 8 5 5 3 3 0 7 9 7 8 0 9 4 1 4 4 6 0 4 5 6 1 0 0 2 7 1 6\n",
      " 3 0 2 1 1 7 3 0 2 6 7 8 3 9 0 4 6 7 4 6 8 0 7 8 3 1]\n",
      "Y_train  [5 0 4 1 9 2 1 3 1 4 3 5 3 6 1 7 2 8 6 9 4 0 9 1 1 2 4 3 2 7 3 8 6 9 0 5 6\n",
      " 0 7 6 1 8 7 9 3 9 8 5 9 3 3 0 7 4 9 8 0 9 4 1 4 4 6 0 4 5 6 1 0 0 1 7 1 6\n",
      " 3 0 2 1 1 7 9 0 2 6 7 8 3 9 0 4 6 7 4 6 8 0 7 8 3 1]\n",
      "Y_train shape  (60000,)\n",
      "train accuracy: 45.873333333333335 %\n",
      "test accuracy: 48.199999999999996 %\n"
     ]
    }
   ],
   "source": [
    "d_64n_1000_0005 = model_part2(X_train, Y_train, X_test, Y_test,print_cost=True, num_iterations=1000, learning_rate=0.005, layer_1=64)"
   ]
  },
  {
   "cell_type": "markdown",
   "metadata": {},
   "source": [
    "The experiments I did with 100 and 64 nodes in the hidden layer pushed me to try with a lower number of nodes. That's why in my report I focus on the experiments with 32 nodes only (Please refer to it for a further explanation). "
   ]
  },
  {
   "cell_type": "code",
   "execution_count": 57,
   "metadata": {},
   "outputs": [
    {
     "name": "stdout",
     "output_type": "stream",
     "text": [
      "train accuracy: 26.230000000000004 %\n",
      "test accuracy: 29.629999999999995 %\n"
     ]
    }
   ],
   "source": [
    "d_32n_1000_0005 = model_part2(X_train, Y_train, X_test, Y_test,print_cost=True, num_iterations=1000, learning_rate=0.005, layer_1=32)"
   ]
  },
  {
   "cell_type": "code",
   "execution_count": 58,
   "metadata": {},
   "outputs": [
    {
     "name": "stdout",
     "output_type": "stream",
     "text": [
      "train accuracy: 54.41666666666667 %\n",
      "test accuracy: 55.9 %\n"
     ]
    }
   ],
   "source": [
    "d_32n_2000_0005 = model_part2(X_train, Y_train, X_test, Y_test,print_cost=True, num_iterations=2000, learning_rate=0.005, layer_1=32)"
   ]
  },
  {
   "cell_type": "markdown",
   "metadata": {},
   "source": [
    "2000 Epochs | hidden layer = 32 nodes | lr = 0.005\n",
    "<ul>\n",
    "<li>train accuracy:  50.714999999999996 %</li> \n",
    "<li>test accuracy: 50.690000000000005 % </li> \n",
    "</ul>"
   ]
  },
  {
   "cell_type": "code",
   "execution_count": 59,
   "metadata": {},
   "outputs": [
    {
     "name": "stdout",
     "output_type": "stream",
     "text": [
      "train accuracy: 76.70666666666666 %\n",
      "test accuracy: 74.12 %\n"
     ]
    }
   ],
   "source": [
    "d_32n_10000_0005 = model_part2(X_train, Y_train, X_test, Y_test,print_cost=True, num_iterations=10000, learning_rate=0.005, layer_1=32)"
   ]
  },
  {
   "cell_type": "markdown",
   "metadata": {},
   "source": [
    "10000 Epochs | hidden layer = 32 nodes | lr = 0.005\n",
    "<ul>\n",
    "<li>train accuracy: </li> \n",
    "<li>test accuracy: </li> \n",
    "</ul>"
   ]
  },
  {
   "cell_type": "code",
   "execution_count": 60,
   "metadata": {},
   "outputs": [
    {
     "name": "stdout",
     "output_type": "stream",
     "text": [
      "train accuracy: 69.75666666666666 %\n",
      "test accuracy: 68.15 %\n"
     ]
    }
   ],
   "source": [
    "d_32n_5000_0005 = model_part2(X_train, Y_train, X_test, Y_test,print_cost=True, num_iterations=5000, learning_rate=0.005, layer_1=32)"
   ]
  },
  {
   "cell_type": "code",
   "execution_count": 61,
   "metadata": {},
   "outputs": [
    {
     "name": "stdout",
     "output_type": "stream",
     "text": [
      "train accuracy: -345.3933333333334 %\n",
      "test accuracy: -344.34 %\n"
     ]
    }
   ],
   "source": [
    "d_32n_1000_005 = model_part2(X_train, Y_train, X_test, Y_test,print_cost=True, num_iterations=1000, learning_rate=0.05, layer_1=32)\n"
   ]
  },
  {
   "cell_type": "code",
   "execution_count": 62,
   "metadata": {},
   "outputs": [
    {
     "name": "stdout",
     "output_type": "stream",
     "text": [
      "train accuracy: -345.3933333333334 %\n",
      "test accuracy: -344.34 %\n"
     ]
    }
   ],
   "source": [
    "d_32n_2000_005 = model_part2(X_train, Y_train, X_test, Y_test,print_cost=True, num_iterations=2000, learning_rate=0.05, layer_1=32)"
   ]
  },
  {
   "cell_type": "code",
   "execution_count": 63,
   "metadata": {},
   "outputs": [
    {
     "name": "stdout",
     "output_type": "stream",
     "text": [
      "train accuracy: -290.81666666666666 %\n",
      "test accuracy: -291.12 %\n"
     ]
    }
   ],
   "source": [
    "d_32n_5000_005 = model_part2(X_train, Y_train, X_test, Y_test,print_cost=True, num_iterations=5000, learning_rate=0.05, layer_1=32)"
   ]
  },
  {
   "cell_type": "code",
   "execution_count": 64,
   "metadata": {},
   "outputs": [
    {
     "name": "stdout",
     "output_type": "stream",
     "text": [
      "train accuracy: -248.37833333333333 %\n",
      "test accuracy: -248.47000000000003 %\n"
     ]
    }
   ],
   "source": [
    "d_32n_10000_005 = model_part2(X_train, Y_train, X_test, Y_test,print_cost=True, num_iterations=10000, learning_rate=0.05, layer_1=32)"
   ]
  },
  {
   "cell_type": "markdown",
   "metadata": {},
   "source": [
    "5000 Epochs | hidden layer = 32 nodes | lr = 0.05\n",
    "<ul>\n",
    "<li>train accuracy: </li> \n",
    "<li>test accuracy:  </li> \n",
    "</ul>"
   ]
  },
  {
   "cell_type": "markdown",
   "metadata": {},
   "source": [
    "<h6> Collecting Accuracy Data </h6> "
   ]
  },
  {
   "cell_type": "code",
   "execution_count": 65,
   "metadata": {},
   "outputs": [],
   "source": [
    "list_runs =[d_2000_0005, d_1000_0005, d_1000_005, d_1000_001, d_2000_0005, d_1000_0005, d_64n_1000_0005 , d_32n_2000_0005, d_32n_10000_0005,d_32n_5000_0005]\n",
    "list_run_32nodes_0005 = [d_32n_1000_0005, d_32n_2000_0005, d_32n_5000_0005, d_32n_10000_0005]\n",
    "list_run_32_nodes_xaxis=[2000,5000,10000]\n",
    "list_run_32nodes_005  = [d_32n_1000_005, d_32n_2000_005, d_32n_5000_005, d_32n_10000_005]\n",
    "list_run_100_nodes = [d_2000_0005, d_1000_0005, d_1000_005, d_1000_001, d_2000_0005, d_1000_0005]\n"
   ]
  },
  {
   "cell_type": "code",
   "execution_count": 81,
   "metadata": {},
   "outputs": [
    {
     "name": "stdout",
     "output_type": "stream",
     "text": [
      "------**-----**--------**-----**------\n",
      "Train: 26.230000000000004 x Test:29.629999999999995\n",
      "Train: 54.41666666666667 x Test:55.9\n",
      "Train: 69.75666666666666 x Test:68.15\n",
      "Train: 76.70666666666666 x Test:74.12\n",
      "------**-----**--------**-----**------\n",
      "Train: -345.3933333333334 x Test:-344.34\n",
      "Train: -345.3933333333334 x Test:-344.34\n",
      "Train: -290.81666666666666 x Test:-291.12\n",
      "Train: -248.37833333333333 x Test:-248.47000000000003\n"
     ]
    }
   ],
   "source": [
    "#collect accuracy of all runs with the hyperperameters reported in the paper\n",
    "acc_train_005 = []\n",
    "acc_test_005=[]\n",
    "acc_train_0005 = []\n",
    "acc_test_0005=[]\n",
    "print(\"------**-----**--------**-----**------\")\n",
    "for i in list_run_32nodes_0005:\n",
    "    print(f\"Train: {i['train_acc']} x Test:{i['test_acc']}\")\n",
    "    acc_train_0005.append(i['train_acc'])\n",
    "    acc_test_0005.append(i['test_acc'])\n",
    "print(\"------**-----**--------**-----**------\")\n",
    "for i in list_run_32nodes_005:\n",
    "    acc_train_005.append(i['train_acc'])\n",
    "    acc_test_005.append(i['test_acc'])\n",
    "    print(f\"Train: {i['train_acc']} x Test:{i['test_acc']}\")\n",
    "\n"
   ]
  },
  {
   "cell_type": "code",
   "execution_count": 85,
   "metadata": {},
   "outputs": [
    {
     "data": {
      "text/plain": [
       "<Figure size 1000x1600 with 0 Axes>"
      ]
     },
     "metadata": {},
     "output_type": "display_data"
    },
    {
     "data": {
      "image/png": "[encoded data removed]",
      "text/plain": [
       "<Figure size 640x480 with 1 Axes>"
      ]
     },
     "metadata": {},
     "output_type": "display_data"
    }
   ],
   "source": [
    "#plot train vs accuracy for different epoch lr = 0.005\n",
    "\n",
    "categories = [1000,2000,5000,10000]\n",
    "values1 = acc_train_0005  # Values for the first set of bars\n",
    "values2 = acc_test_0005   # Values for the second set of bars\n",
    "\n",
    "x = np.arange(len(categories))  # the label locations\n",
    "width = 0.30  # the width of the bars\n",
    "plt.rcParams.update({'font.family': 'serif', 'font.serif': ['Times New Roman']})\n",
    "\n",
    "plt.figure(figsize=(10, 16))\n",
    "fig, ax = plt.subplots()\n",
    "\n",
    "bars1 = ax.bar(x - width/2, values1, width, label='Train')\n",
    "bars2 = ax.bar(x + width/2, values2, width, label='Test')\n",
    "\n",
    "# Add some text for labels, title and custom x-axis tick labels, etc.\n",
    "ax.set_ylabel('Accuracy %')\n",
    "ax.set_title('Accuracy Train X Test - Learning Rate 0.005')\n",
    "ax.set_xlabel(\"Number of Epochs\")\n",
    "ax.set_xticks(x)\n",
    "ax.set_xticklabels(categories)\n",
    "ax.legend()\n",
    "\n",
    "# Label each bar with their respective values\n",
    "def autolabel(bars):\n",
    "    \"\"\"Attach a text label above each bar in *bars*, displaying its height.\"\"\"\n",
    "    for bar in bars:\n",
    "        height = bar.get_height()\n",
    "       \n",
    "        ax.annotate('{}'.format(height),\n",
    "                    xy=(bar.get_x() + bar.get_width() / 2, height),\n",
    "                    xytext=(0, 3),  # 3 points vertical offset\n",
    "                    textcoords=\"offset points\",\n",
    "                    ha='center', va='bottom', fontsize=3.5)\n",
    "\n",
    "autolabel(bars1)\n",
    "autolabel(bars2)\n",
    "\n",
    "plt.savefig('part2_32n_0005lr.png', dpi=300)  # You can change the file format and DPI as needed\n",
    "\n",
    "plt.show()"
   ]
  },
  {
   "cell_type": "code",
   "execution_count": 84,
   "metadata": {},
   "outputs": [
    {
     "data": {
      "text/plain": [
       "<Figure size 1000x1600 with 0 Axes>"
      ]
     },
     "metadata": {},
     "output_type": "display_data"
    },
    {
     "data": {
      "image/png": "[encoded data removed]",
      "text/plain": [
       "<Figure size 640x480 with 1 Axes>"
      ]
     },
     "metadata": {},
     "output_type": "display_data"
    }
   ],
   "source": [
    "#plot train vs accuracy for different epoch lr = 0.05\n",
    "categories = [1000,2000,5000,10000]\n",
    "values1 = acc_train_005  # Values for the first set of bars\n",
    "values2 = acc_test_005   # Values for the second set of bars\n",
    "\n",
    "x = np.arange(len(categories))  # the label locations\n",
    "width = 0.30  # the width of the bars\n",
    "plt.rcParams.update({'font.family': 'serif', 'font.serif': ['Times New Roman']})\n",
    "\n",
    "plt.figure(figsize=(10, 16))\n",
    "fig, ax = plt.subplots()\n",
    "\n",
    "bars1 = ax.bar(x - width/2, values1, width, label='Train')\n",
    "bars2 = ax.bar(x + width/2, values2, width, label='Test')\n",
    "\n",
    "# Add some text for labels, title and custom x-axis tick labels, etc.\n",
    "ax.set_ylabel('Accuracy %')\n",
    "ax.set_title('Accuracy Train X Test - Learning Rate 0.05')\n",
    "ax.set_xlabel(\"Number of Epochs\")\n",
    "ax.set_xticks(x)\n",
    "ax.set_xticklabels(categories)\n",
    "ax.legend()\n",
    "\n",
    "# Label each bar with their respective values\n",
    "def autolabel(bars):\n",
    "    \"\"\"Attach a text label above each bar in *bars*, displaying its height.\"\"\"\n",
    "    for bar in bars:\n",
    "        height = bar.get_height()\n",
    "       \n",
    "        ax.annotate('{}'.format(height),\n",
    "                    xy=(bar.get_x() + bar.get_width() / 2, height),\n",
    "                    xytext=(0, 3),  # 3 points vertical offset\n",
    "                    textcoords=\"offset points\",\n",
    "                    ha='center', va='bottom', fontsize=3.5)\n",
    "\n",
    "autolabel(bars1)\n",
    "autolabel(bars2)\n",
    "\n",
    "plt.savefig('part2_32n_005lr.png', dpi=300)  # You can change the file format and DPI as needed\n",
    "\n",
    "plt.show()"
   ]
  },
  {
   "cell_type": "code",
   "execution_count": 94,
   "metadata": {},
   "outputs": [
    {
     "name": "stdout",
     "output_type": "stream",
     "text": [
      "------**-----**--------**-----**------\n",
      "Cost: 10\n",
      "Cost: 20\n",
      "Cost: 50\n",
      "Cost: 100\n",
      "------**-----**--------**-----**------\n",
      "Cost: 10\n",
      "Cost: 20\n",
      "Cost: 50\n",
      "Cost: 100\n"
     ]
    }
   ],
   "source": [
    "#collect costs \n",
    "print(\"------**-----**--------**-----**------\")\n",
    "cost_0005 =[]\n",
    "cost_005 = []\n",
    "for i in list_run_32nodes_0005:\n",
    "    print(f\"Cost: {len(i['costs'])}\")\n",
    "    cost_0005.append(i['costs'])\n",
    "print(\"------**-----**--------**-----**------\")\n",
    "for i in list_run_32nodes_005:\n",
    "    cost_005.append(i['costs'])\n",
    "    print(f\"Cost: {len(i['costs'])}\")"
   ]
  },
  {
   "cell_type": "code",
   "execution_count": 101,
   "metadata": {},
   "outputs": [
    {
     "data": {
      "image/png": "[encoded data removed]",
      "text/plain": [
       "<Figure size 700x600 with 1 Axes>"
      ]
     },
     "metadata": {},
     "output_type": "display_data"
    }
   ],
   "source": [
    "# Plotting cost per epoch for lr = 0.005\n",
    "plt.figure(figsize=(7, 6))\n",
    "epochs_1000 = [i * 100 for i in range(1, 11)] \n",
    "epochs_2000 = [i * 100 for i in range(1, 21)]\n",
    "epochs_5000 = [i * 100 for i in range(1, 51)]\n",
    "epochs_10000 = [i * 100 for i in range(1, 101)]\n",
    "\n",
    "plt.plot(epochs_1000, cost_0005[0], label='1000 epochs')\n",
    "plt.plot(epochs_2000, cost_0005[1], label='2000 epochs')\n",
    "plt.plot(epochs_5000, cost_0005[2], label='5000 epochs')\n",
    "plt.plot(epochs_10000, cost_0005[3], label='10000 epochs')\n",
    "\n",
    "plt.xlabel('Number of Epochs')\n",
    "plt.ylabel('Cost')\n",
    "plt.title('Objective/Cost Function Behavior For Learning Rate 0.005')\n",
    "plt.legend()\n",
    "plt.grid(True)\n",
    "plt.savefig(\"./cost_0005.png\")\n",
    "plt.show()"
   ]
  },
  {
   "cell_type": "code",
   "execution_count": 102,
   "metadata": {},
   "outputs": [
    {
     "data": {
      "image/png": "[encoded data removed]",
      "text/plain": [
       "<Figure size 700x600 with 1 Axes>"
      ]
     },
     "metadata": {},
     "output_type": "display_data"
    }
   ],
   "source": [
    "# Plotting cost per epoch for lr = 0.05\n",
    "plt.figure(figsize=(7, 6))\n",
    "epochs_1000 = [i * 100 for i in range(1, 11)] \n",
    "epochs_2000 = [i * 100 for i in range(1, 21)]\n",
    "epochs_5000 = [i * 100 for i in range(1, 51)]\n",
    "epochs_10000 = [i * 100 for i in range(1, 101)]\n",
    "\n",
    "plt.plot(epochs_1000, cost_005[0], label='1000 epochs')\n",
    "plt.plot(epochs_2000, cost_005[1], label='2000 epochs')\n",
    "plt.plot(epochs_5000, cost_005[2], label='5000 epochs')\n",
    "plt.plot(epochs_10000, cost_005[3], label='10000 epochs')\n",
    "\n",
    "plt.xlabel('Number of Epochs')\n",
    "plt.ylabel('Cost')\n",
    "plt.title('Objective/Cost Function Behavior For Learning Rate 0.05')\n",
    "plt.legend()\n",
    "plt.grid(True)\n",
    "plt.savefig(\"./cost_005.png\")\n",
    "plt.show()"
   ]
  }
 ],
 "metadata": {
  "kernelspec": {
   "display_name": "Python 3 (ipykernel)",
   "language": "python",
   "name": "python3"
  },
  "language_info": {
   "codemirror_mode": {
    "name": "ipython",
    "version": 3
   },
   "file_extension": ".py",
   "mimetype": "text/x-python",
   "name": "python",
   "nbconvert_exporter": "python",
   "pygments_lexer": "ipython3",
   "version": "3.10.13"
  }
 },
 "nbformat": 4,
 "nbformat_minor": 2
}
